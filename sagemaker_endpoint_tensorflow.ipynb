{
 "cells": [
  {
   "cell_type": "code",
   "execution_count": 6,
   "metadata": {},
   "outputs": [],
   "source": [
    "from deepface import DeepFace\n",
    "from imageio import imread"
   ]
  },
  {
   "cell_type": "code",
   "execution_count": null,
   "metadata": {},
   "outputs": [],
   "source": [
    "role_arn = \"your_role_arn\""
   ]
  },
  {
   "cell_type": "code",
   "execution_count": 8,
   "metadata": {},
   "outputs": [],
   "source": [
    "emotion_model = DeepFace.build_model(\"Emotion\")"
   ]
  },
  {
   "cell_type": "code",
   "execution_count": 9,
   "metadata": {},
   "outputs": [],
   "source": [
    "model_path = '{}/{}/00000001'.format(\"model/\", \"sagemaker_demo_model_tensorflow\")\n",
    "\n",
    "emotion_model.save(filepath=model_path)"
   ]
  },
  {
   "cell_type": "code",
   "execution_count": 10,
   "metadata": {},
   "outputs": [],
   "source": [
    "import tarfile\n",
    "zipped_model_path = \"sagemaker_demo_model.tar.gz\"\n",
    "with tarfile.open(zipped_model_path, \"w:gz\") as tar:\n",
    "    tar.add(model_path)\n"
   ]
  },
  {
   "cell_type": "code",
   "execution_count": 3,
   "metadata": {},
   "outputs": [],
   "source": [
    "import boto3\n",
    "bucket_name = \"sagemaker-demo-20231108\"\n",
    "region = \"ap-northeast-1\"\n",
    "\n",
    "s3_client = boto3.client('s3', region_name=region)\n",
    "location = {'LocationConstraint': region}\n"
   ]
  },
  {
   "cell_type": "code",
   "execution_count": 4,
   "metadata": {},
   "outputs": [
    {
     "data": {
      "text/plain": [
       "{'ResponseMetadata': {'RequestId': 'NAEV1PFG8B9TF2T2',\n",
       "  'HostId': 'SWgvPcBs/nvnD6U9MqwqJPcTG08uUM8H16kZ+bDfaFBniYMLbM+Z2Cuo0ueJ3I2tkG3YuWqKFJg=',\n",
       "  'HTTPStatusCode': 200,\n",
       "  'HTTPHeaders': {'x-amz-id-2': 'SWgvPcBs/nvnD6U9MqwqJPcTG08uUM8H16kZ+bDfaFBniYMLbM+Z2Cuo0ueJ3I2tkG3YuWqKFJg=',\n",
       "   'x-amz-request-id': 'NAEV1PFG8B9TF2T2',\n",
       "   'date': 'Tue, 07 Nov 2023 22:59:09 GMT',\n",
       "   'location': 'http://sagemaker-demo-20231108.s3.amazonaws.com/',\n",
       "   'server': 'AmazonS3',\n",
       "   'content-length': '0'},\n",
       "  'RetryAttempts': 0},\n",
       " 'Location': 'http://sagemaker-demo-20231108.s3.amazonaws.com/'}"
      ]
     },
     "execution_count": 4,
     "metadata": {},
     "output_type": "execute_result"
    }
   ],
   "source": [
    "s3_client.create_bucket(Bucket=bucket_name, CreateBucketConfiguration=location)\n",
    "# s3_client.list_buckets()"
   ]
  },
  {
   "cell_type": "code",
   "execution_count": 13,
   "metadata": {},
   "outputs": [],
   "source": [
    "s3_client.upload_file(zipped_model_path, bucket_name, zipped_model_path)"
   ]
  },
  {
   "cell_type": "code",
   "execution_count": 16,
   "metadata": {},
   "outputs": [
    {
     "name": "stdout",
     "output_type": "stream",
     "text": [
      "sagemaker.config INFO - Not applying SDK defaults from location: /Library/Application Support/sagemaker/config.yaml\n",
      "sagemaker.config INFO - Not applying SDK defaults from location: /Users/itsuki/Library/Application Support/sagemaker/config.yaml\n",
      "sagemaker.config INFO - Not applying SDK defaults from location: /Library/Application Support/sagemaker/config.yaml\n",
      "sagemaker.config INFO - Not applying SDK defaults from location: /Users/itsuki/Library/Application Support/sagemaker/config.yaml\n",
      "---!"
     ]
    }
   ],
   "source": [
    "from sagemaker.tensorflow import TensorFlowModel\n",
    "\n",
    "endpoint_name = \"sagemakerDemoEndpoint\" \n",
    "data_url = \"s3://{}/{}\".format(bucket_name, zipped_model_path)\n",
    "tensorFlowModel = TensorFlowModel(\n",
    "    model_data=data_url,\n",
    "    role=role_arn,\n",
    "    image_uri=\"763104351884.dkr.ecr.ap-northeast-1.amazonaws.com/tensorflow-inference:2.13.0-cpu-py310-ubuntu20.04-sagemaker\"\n",
    ")\n",
    "\n",
    "predictor = tensorFlowModel.deploy(\n",
    "    initial_instance_count=1, instance_type=\"ml.c6i.large\", endpoint_name=endpoint_name\n",
    ")"
   ]
  },
  {
   "cell_type": "markdown",
   "metadata": {},
   "source": [
    "## invoke Enpoint"
   ]
  },
  {
   "cell_type": "code",
   "execution_count": 17,
   "metadata": {},
   "outputs": [
    {
     "name": "stdout",
     "output_type": "stream",
     "text": [
      "sagemaker.config INFO - Not applying SDK defaults from location: /Library/Application Support/sagemaker/config.yaml\n",
      "sagemaker.config INFO - Not applying SDK defaults from location: /Users/itsuki/Library/Application Support/sagemaker/config.yaml\n"
     ]
    }
   ],
   "source": [
    "from sagemaker.tensorflow import TensorFlowPredictor\n",
    "\n",
    "predictor = TensorFlowPredictor(endpoint_name)\n"
   ]
  },
  {
   "cell_type": "code",
   "execution_count": 20,
   "metadata": {},
   "outputs": [
    {
     "name": "stdout",
     "output_type": "stream",
     "text": [
      "[[0.0183952674, 1.11191099e-07, 0.0041606226, 0.551365137, 0.0831287652, 0.00045347563, 0.342496574]]\n"
     ]
    }
   ],
   "source": [
    "import cv2\n",
    "\n",
    "classifier_path = \"haarcascade_frontalface_default.xml\"\n",
    "face_classifier_frontal = cv2.CascadeClassifier(classifier_path)\n",
    "\n",
    "imagePath = 'test_image.jpg'\n",
    "image_cv2 = cv2.imread(imagePath)\n",
    "image_cv2 = cv2.cvtColor(image_cv2, cv2.COLOR_BGR2GRAY)\n",
    "faces_frontal = face_classifier_frontal.detectMultiScale(image_cv2)\n",
    "(x, y, w, h) = faces_frontal[0]\n",
    "face_roi = image_cv2[y:y + h, x:x + w]\n",
    "resized_face = cv2.resize(face_roi, (48, 48), interpolation=cv2.INTER_AREA)\n",
    "normalized_face = resized_face / 255.0\n",
    "reshaped_face = normalized_face.reshape(1, 48, 48, 1)\n",
    "response = predictor.predict(reshaped_face)\n",
    "predictions = response['predictions']\n",
    "print(predictions)"
   ]
  },
  {
   "cell_type": "code",
   "execution_count": 21,
   "metadata": {},
   "outputs": [
    {
     "name": "stdout",
     "output_type": "stream",
     "text": [
      "happy\n"
     ]
    }
   ],
   "source": [
    "import numpy as np\n",
    "\n",
    "emotion_labels = ['angry', 'disgust', 'fear', 'happy', 'sad', 'surprise', 'neutral']\n",
    "emotion_idx = np.array(predictions[0]).argmax()\n",
    "emotion = emotion_labels[emotion_idx]\n",
    "print(emotion)"
   ]
  }
 ],
 "metadata": {
  "kernelspec": {
   "display_name": "Python 3",
   "language": "python",
   "name": "python3"
  },
  "language_info": {
   "codemirror_mode": {
    "name": "ipython",
    "version": 3
   },
   "file_extension": ".py",
   "mimetype": "text/x-python",
   "name": "python",
   "nbconvert_exporter": "python",
   "pygments_lexer": "ipython3",
   "version": "3.11.5"
  }
 },
 "nbformat": 4,
 "nbformat_minor": 2
}
